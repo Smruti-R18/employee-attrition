{
 "cells": [
  {
   "cell_type": "code",
   "execution_count": 5,
   "id": "04081964",
   "metadata": {},
   "outputs": [
    {
     "name": "stdout",
     "output_type": "stream",
     "text": [
      "(1470, 35) (9000, 10)\n"
     ]
    }
   ],
   "source": [
    "import pandas as pd\n",
    "\n",
    "# IBM HR dataset (structured)\n",
    "ibm_df = pd.read_csv(\"C:\\\\Users\\\\smrut\\\\Documents\\\\Employee Attrition Predictor\\\\data\\\\ibm_hr.csv\")\n",
    "\n",
    "# Accenture Attrition Reviews dataset (text)\n",
    "accenture_df = pd.read_csv(\"C:\\\\Users\\\\smrut\\\\Documents\\\\Employee Attrition Predictor\\\\data\\\\Accenture_glassdoor_review10kS.csv\")\n",
    "\n",
    "print(ibm_df.shape, accenture_df.shape)"
   ]
  },
  {
   "cell_type": "code",
   "execution_count": null,
   "id": "5b40f66f",
   "metadata": {},
   "outputs": [],
   "source": []
  }
 ],
 "metadata": {
  "kernelspec": {
   "display_name": "Python 3",
   "language": "python",
   "name": "python3"
  },
  "language_info": {
   "codemirror_mode": {
    "name": "ipython",
    "version": 3
   },
   "file_extension": ".py",
   "mimetype": "text/x-python",
   "name": "python",
   "nbconvert_exporter": "python",
   "pygments_lexer": "ipython3",
   "version": "3.11.0"
  }
 },
 "nbformat": 4,
 "nbformat_minor": 5
}
